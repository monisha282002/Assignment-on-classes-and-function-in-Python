{
 "cells": [
  {
   "cell_type": "markdown",
   "id": "fb6ca2f0",
   "metadata": {},
   "source": [
    "# CLASSES AND FUNCTION IN PYTHON"
   ]
  },
  {
   "cell_type": "code",
   "execution_count": 10,
   "id": "ad3eee8f",
   "metadata": {},
   "outputs": [
    {
     "name": "stdout",
     "output_type": "stream",
     "text": [
      "5\n",
      "Preetha\n",
      "15\n"
     ]
    }
   ],
   "source": [
    " #  1.Definition and Object Creation Create a Python class called \"Student\" that has the following attributes: name, age, and grade. Define an initialization method to initialize these attributes when an object of tClass he class is created. Create an instance of the class and set the attributes. Finally, print the attributes of the student object.\n",
    "    \n",
    "class Student:\n",
    "    def __init__(self,name,age,grade):\n",
    "        self.name = name\n",
    "        self.age = age \n",
    "        self.grade = grade\n",
    "\n",
    "student_1 = Student('Ram','12',5)\n",
    "student_2 = Student('Raju','15',7)\n",
    "student_3 = Student('Preetha','25',9)\n",
    "\n",
    "print(student_1.grade)\n",
    "print(student_3.name)\n",
    "print(student_2.age)"
   ]
  },
  {
   "cell_type": "code",
   "execution_count": 16,
   "id": "cdccb8fe",
   "metadata": {},
   "outputs": [
    {
     "name": "stdout",
     "output_type": "stream",
     "text": [
      "Is raju passed? True\n"
     ]
    }
   ],
   "source": [
    "# 2.Methods in a Class Extend the \"Student\" class from the previous question. Add a method called \"is_passing\" that returns True if the student's grade is greater than or equal to 50 and False otherwise. Create an instance of the class and use this method to check if the student is passing. Display the result.\n",
    "\n",
    "class Student:\n",
    "    def __init__(self,name,grade):\n",
    "        self.name = name\n",
    "        self.grade = grade\n",
    "        \n",
    "    def is_passing(self):\n",
    "        return self.grade >50\n",
    "    \n",
    "\n",
    "raju = Student('raju' ,70)\n",
    "\n",
    "result=raju.is_passing()\n",
    "\n",
    "print(f\"Is {raju.name} passed? {result}\")\n"
   ]
  },
  {
   "cell_type": "code",
   "execution_count": 18,
   "id": "9c2830a8",
   "metadata": {},
   "outputs": [
    {
     "name": "stdout",
     "output_type": "stream",
     "text": [
      "High School Student: Monisha, Grade: 12, School: Government Higher Secondary School\n"
     ]
    }
   ],
   "source": [
    "# 3.Inheritance and Subclasses Create a new class called \"HighSchoolStudent\" that inherits from the \"Student\" class. Add an additional attribute called school_name to the \"HighSchoolStudent\" class. Create an instance of the \"HighSchoolStudent\" class and set both the attributes, including the inherited attributes from the \"Student\" class. Print all the attributes of the high school student.\n",
    "\n",
    "class Student:\n",
    "    def __init__(self, name, grade):\n",
    "        self.name = name\n",
    "        self.grade = grade\n",
    "\n",
    "class HighSchoolStudent(Student):\n",
    "    def __init__(self, name, grade, school_name):\n",
    "        super().__init__(name, grade)\n",
    "        self.school_name = school_name\n",
    "\n",
    "    def __str__(self):\n",
    "        return f\"High School Student: {self.name}, Grade: {self.grade}, School: {self.school_name}\"\n",
    "\n",
    "# Create an instance of the HighSchoolStudent class\n",
    "student = HighSchoolStudent(\"Monisha\", \"12\", \"Government Higher Secondary School\")\n",
    "\n",
    "# Print all the attributes of the high school student\n",
    "print(student)"
   ]
  },
  {
   "cell_type": "markdown",
   "id": "d0deb869",
   "metadata": {},
   "source": [
    "# FUNCTION IN PYTHON"
   ]
  },
  {
   "cell_type": "code",
   "execution_count": 2,
   "id": "ccbf8b7a",
   "metadata": {},
   "outputs": [
    {
     "name": "stdout",
     "output_type": "stream",
     "text": [
      "200\n",
      "50\n",
      "30\n"
     ]
    }
   ],
   "source": [
    " # 4.Function with Parameters Write a Python function called \"calculate_rectangle_area\" that takes two parameters, length and width, and returns the area of a rectangle. Call the function with different sets of values and display the results.\n",
    "\n",
    "def calculate_rectangle_area(length, width):\n",
    "    area = length * width\n",
    "    return area\n",
    "\n",
    "\n",
    "print(calculate_rectangle_area(10, 20))\n",
    "\n",
    "print(calculate_rectangle_area(5, 10))\n",
    "\n",
    "print(calculate_rectangle_area(3, 10))"
   ]
  },
  {
   "cell_type": "code",
   "execution_count": 20,
   "id": "38a4a4de",
   "metadata": {},
   "outputs": [
    {
     "name": "stdout",
     "output_type": "stream",
     "text": [
      "Hello, Monisha!\n",
      "Good Morning, Monisha!\n"
     ]
    }
   ],
   "source": [
    "# 5.Function with Default Parameters Create a Python function called \"greet\" that takes a name as a parameter and a greeting message as an optional parameter with a default value of \"Hello\". The function should return a formatted greeting message. Test the function by calling it with and without the optional parameter and display the results.\n",
    "\n",
    "def greet(name, greeting_message=\"Hello\"):\n",
    "       return f\"{greeting_message}, {name}!\"\n",
    "\n",
    "# Testing the function by calling it with and without the optional parameter\n",
    "print(greet(\"Monisha\"))\n",
    "print(greet(\"Monisha\", \"Good Morning\"))"
   ]
  },
  {
   "cell_type": "code",
   "execution_count": 6,
   "id": "22201c84",
   "metadata": {},
   "outputs": [
    {
     "name": "stdout",
     "output_type": "stream",
     "text": [
      "The average is: 12.5\n"
     ]
    }
   ],
   "source": [
    "# 6.Function with Variable Number of Arguments Write a Python function called \"calculate_average\" that takes a variable number of arguments and calculates the average of those numbers. Use this function to find the average of 5, 10, 15, and 20, and display the result.\n",
    "\n",
    "def calculate_average(*args):\n",
    "    total = sum(args)\n",
    "    average = total / len(args)\n",
    "    return average\n",
    "\n",
    "result = calculate_average(5, 10, 15, 20)\n",
    "print(\"The average is:\", result)"
   ]
  },
  {
   "cell_type": "code",
   "execution_count": null,
   "id": "a34ab8a9",
   "metadata": {},
   "outputs": [],
   "source": []
  }
 ],
 "metadata": {
  "kernelspec": {
   "display_name": "Python 3 (ipykernel)",
   "language": "python",
   "name": "python3"
  },
  "language_info": {
   "codemirror_mode": {
    "name": "ipython",
    "version": 3
   },
   "file_extension": ".py",
   "mimetype": "text/x-python",
   "name": "python",
   "nbconvert_exporter": "python",
   "pygments_lexer": "ipython3",
   "version": "3.11.4"
  }
 },
 "nbformat": 4,
 "nbformat_minor": 5
}
